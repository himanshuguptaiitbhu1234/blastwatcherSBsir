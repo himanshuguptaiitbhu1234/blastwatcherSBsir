{
 "cells": [
  {
   "cell_type": "code",
   "execution_count": 2,
   "id": "e7840628-2f56-4e63-aad0-24dbb581c236",
   "metadata": {},
   "outputs": [
    {
     "name": "stdout",
     "output_type": "stream",
     "text": [
      "Sampled data saved successfully to sampled_data.csv\n"
     ]
    }
   ],
   "source": [
    "import pandas as pd\n",
    "\n",
    "# Load the CSV file\n",
    "df = pd.read_csv('data-analysis_fake.csv')  # Replace with actual file name\n",
    "\n",
    "# Randomly select 20% of the data\n",
    "sampled_df = df.sample(frac=0.6, random_state=42)\n",
    "\n",
    "# Save the sampled data to a new CSV file\n",
    "sampled_df.to_csv('sampled_data60.csv', index=False)\n",
    "\n",
    "print(\"Sampled data saved successfully to sampled_data.csv\")\n"
   ]
  },
  {
   "cell_type": "code",
   "execution_count": null,
   "id": "ecb871a5-db81-4410-abfa-1c7dfe7f3380",
   "metadata": {},
   "outputs": [],
   "source": []
  }
 ],
 "metadata": {
  "kernelspec": {
   "display_name": "Python 3 (ipykernel)",
   "language": "python",
   "name": "python3"
  },
  "language_info": {
   "codemirror_mode": {
    "name": "ipython",
    "version": 3
   },
   "file_extension": ".py",
   "mimetype": "text/x-python",
   "name": "python",
   "nbconvert_exporter": "python",
   "pygments_lexer": "ipython3",
   "version": "3.12.6"
  }
 },
 "nbformat": 4,
 "nbformat_minor": 5
}
